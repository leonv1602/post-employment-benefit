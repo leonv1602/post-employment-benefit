{
 "cells": [
  {
   "cell_type": "markdown",
   "metadata": {},
   "source": [
    "# Introduction \n",
    "\n",
    "This notebook will generate a common employment data with following columns :\n",
    "1. ID : Employe ID\n",
    "2. DOB : Date of Birth\n",
    "3. DOH : Date of Hire\n",
    "4. Salary"
   ]
  },
  {
   "cell_type": "code",
   "execution_count": null,
   "metadata": {},
   "outputs": [],
   "source": [
    "import pandas as pd\n",
    "import numpy as np\n",
    "import datetime "
   ]
  },
  {
   "cell_type": "code",
   "execution_count": null,
   "metadata": {},
   "outputs": [],
   "source": [
    "emp_counts = 50\n",
    "data = pd.DataFrame(data = {\"id\" : np.random.randint(0, emp_counts*10, emp_counts), \n",
    "                            'dob' : [str(np.random.randint(1940, 1999)) + '-' + str(np.random.randint(1,12)) + '-' + str(np.random.randint(1,31)) for i in range (50)],\n",
    "                            'doh' : [str(np.random.randint(2010, 2022)) + '-' + str(np.random.randint(1,12)) + '-' + str(np.random.randint(1,31)) for i in range (50)],\n",
    "                            'salary' : np.round(np.random.randn(emp_counts)**2*1e3,2)})\n",
    "data['dob'] = pd.to_datetime(data['dob'])\n",
    "data['doh'] = pd.to_datetime(data['doh'])\n",
    "data"
   ]
  },
  {
   "cell_type": "markdown",
   "metadata": {},
   "source": [
    "# Processing\n",
    "We need the information of **Age** and **Year of Service (YOS)** of each of the employees."
   ]
  },
  {
   "cell_type": "code",
   "execution_count": null,
   "metadata": {},
   "outputs": [],
   "source": [
    "val_date = pd.Timestamp('2022-12-31')\n",
    "data['age'] = np.round((val_date- data.dob)/np.timedelta64(1, 'Y'),2)\n",
    "data['yos'] = np.round((val_date- data.doh)/np.timedelta64(1, 'Y'),2)"
   ]
  },
  {
   "cell_type": "code",
   "execution_count": null,
   "metadata": {},
   "outputs": [],
   "source": [
    "data"
   ]
  }
 ],
 "metadata": {
  "kernelspec": {
   "display_name": "Python 3.10.0 64-bit",
   "language": "python",
   "name": "python3"
  },
  "language_info": {
   "codemirror_mode": {
    "name": "ipython",
    "version": 3
   },
   "file_extension": ".py",
   "mimetype": "text/x-python",
   "name": "python",
   "nbconvert_exporter": "python",
   "pygments_lexer": "ipython3",
   "version": "3.10.0"
  },
  "orig_nbformat": 4,
  "vscode": {
   "interpreter": {
    "hash": "9be826744cc5714b462ad0c8de88bfa6f016a48973c6317b9546595d1685cabb"
   }
  }
 },
 "nbformat": 4,
 "nbformat_minor": 2
}
