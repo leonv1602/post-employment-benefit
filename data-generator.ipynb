{
 "cells": [
  {
   "attachments": {},
   "cell_type": "markdown",
   "metadata": {},
   "source": [
    "# Introduction \n",
    "\n",
    "This notebook will generate a common employment data with following columns :\n",
    "1. ID : Employe ID\n",
    "2. DOB : Date of Birth\n",
    "3. DOH : Date of Hire\n",
    "4. Salary\n",
    "\n",
    "The aim of this notebook is that Consulting Actuary Company or any other company that work with employee data can have an open employee data that they can generate on their own for training or education purposes."
   ]
  },
  {
   "attachments": {},
   "cell_type": "markdown",
   "metadata": {},
   "source": [
    "# Data Generator"
   ]
  },
  {
   "attachments": {},
   "cell_type": "markdown",
   "metadata": {},
   "source": [
    "To minimize the error of data, the range of date of the data will be between 1 to 28 (instead of 1 to 31 like normal calendar). "
   ]
  },
  {
   "cell_type": "code",
   "execution_count": 2,
   "metadata": {},
   "outputs": [],
   "source": [
    "# Packages\n",
    "import pandas as pd # DataFrame\n",
    "import numpy as np # Vector or Matrices\n",
    "import datetime # Date time"
   ]
  },
  {
   "cell_type": "code",
   "execution_count": 3,
   "metadata": {},
   "outputs": [
    {
     "data": {
      "text/html": [
       "<div>\n",
       "<style scoped>\n",
       "    .dataframe tbody tr th:only-of-type {\n",
       "        vertical-align: middle;\n",
       "    }\n",
       "\n",
       "    .dataframe tbody tr th {\n",
       "        vertical-align: top;\n",
       "    }\n",
       "\n",
       "    .dataframe thead th {\n",
       "        text-align: right;\n",
       "    }\n",
       "</style>\n",
       "<table border=\"1\" class=\"dataframe\">\n",
       "  <thead>\n",
       "    <tr style=\"text-align: right;\">\n",
       "      <th></th>\n",
       "      <th>id</th>\n",
       "      <th>dob</th>\n",
       "      <th>doh</th>\n",
       "      <th>salary</th>\n",
       "    </tr>\n",
       "  </thead>\n",
       "  <tbody>\n",
       "    <tr>\n",
       "      <th>0</th>\n",
       "      <td>45</td>\n",
       "      <td>1986-09-10</td>\n",
       "      <td>2010-04-27</td>\n",
       "      <td>128.26</td>\n",
       "    </tr>\n",
       "    <tr>\n",
       "      <th>1</th>\n",
       "      <td>47</td>\n",
       "      <td>1970-06-26</td>\n",
       "      <td>2009-06-25</td>\n",
       "      <td>7374.20</td>\n",
       "    </tr>\n",
       "    <tr>\n",
       "      <th>2</th>\n",
       "      <td>6</td>\n",
       "      <td>1973-06-02</td>\n",
       "      <td>2014-11-20</td>\n",
       "      <td>15620.54</td>\n",
       "    </tr>\n",
       "    <tr>\n",
       "      <th>3</th>\n",
       "      <td>2</td>\n",
       "      <td>1970-06-20</td>\n",
       "      <td>2021-07-24</td>\n",
       "      <td>16248.01</td>\n",
       "    </tr>\n",
       "    <tr>\n",
       "      <th>4</th>\n",
       "      <td>2</td>\n",
       "      <td>1978-08-07</td>\n",
       "      <td>2018-06-09</td>\n",
       "      <td>4020.37</td>\n",
       "    </tr>\n",
       "  </tbody>\n",
       "</table>\n",
       "</div>"
      ],
      "text/plain": [
       "   id        dob        doh    salary\n",
       "0  45 1986-09-10 2010-04-27    128.26\n",
       "1  47 1970-06-26 2009-06-25   7374.20\n",
       "2   6 1973-06-02 2014-11-20  15620.54\n",
       "3   2 1970-06-20 2021-07-24  16248.01\n",
       "4   2 1978-08-07 2018-06-09   4020.37"
      ]
     },
     "execution_count": 3,
     "metadata": {},
     "output_type": "execute_result"
    }
   ],
   "source": [
    "emp_counts = 5 # Length of Data\n",
    "\n",
    "# Creating DataFrame\n",
    "data = pd.DataFrame(data = {\"id\" : np.random.randint(0, emp_counts*10, emp_counts), \n",
    "                            'dob' : [str(np.random.randint(1970, 2001)) + '-' + str(np.random.randint(1,12)) + '-' + str(np.random.randint(1,29)) for i in range (emp_counts)],\n",
    "                            'doh' : [str(np.random.randint(2008, 2022)) + '-' + str(np.random.randint(1,12)) + '-' + str(np.random.randint(1,29)) for i in range (emp_counts)],\n",
    "                            'salary' : np.round(np.random.randn(emp_counts)**2*1e4,2)})\n",
    "data['dob'] = pd.to_datetime(data['dob'])\n",
    "data['doh'] = pd.to_datetime(data['doh'])\n",
    "data"
   ]
  },
  {
   "cell_type": "code",
   "execution_count": 4,
   "metadata": {},
   "outputs": [],
   "source": [
    "# To save in Excel Format\n",
    "data.to_excel(f'data/employee-data-with-{emp_counts}-data.xlsx')"
   ]
  },
  {
   "attachments": {},
   "cell_type": "markdown",
   "metadata": {},
   "source": [
    "# Actuarial Assumption \n",
    "## Mortality and Morbidity Distribution"
   ]
  },
  {
   "attachments": {},
   "cell_type": "markdown",
   "metadata": {},
   "source": [
    "We will make a mortality Table from Makeham Distribution with parameters as follow \n",
    "$A = 0.00022, B = 2.7 × 10^{−6}, c = 1.124$. In general, the Survival Function of Makeham Distribution is :\n",
    "\\begin{equation}\n",
    "S_X(t) = \\exp(-A)\\exp\\left(\\left(-\\frac{B}{\\ln{c}}c^x\\left(c^t-1\\right)\\right)\\right)\n",
    "\\end{equation}"
   ]
  },
  {
   "cell_type": "code",
   "execution_count": 5,
   "metadata": {},
   "outputs": [],
   "source": [
    "def p(t,x, A = 0.00022, B = 2.7e-06, c = 1.124) :\n",
    "    return np.exp(-A)*np.exp((-B/np.log(c)*c**x*(c**t-1)))"
   ]
  },
  {
   "attachments": {},
   "cell_type": "markdown",
   "metadata": {},
   "source": [
    "We also assume that Morbidity is 1% of the Mortality Rate"
   ]
  },
  {
   "attachments": {},
   "cell_type": "markdown",
   "metadata": {},
   "source": [
    "## Resignation Rate\n",
    "Since assumption on resignation rate can be vary across company, we will use a simple assumption that is the rate is 10% at the age of 22 and decrease linearly to 1% at the age of retirement - 1."
   ]
  },
  {
   "attachments": {},
   "cell_type": "markdown",
   "metadata": {},
   "source": [
    "# Economic Assumption \n",
    "Since the yield curve data hasn't been modeled in this repository, we assume a single discount rate with 5% p.a. and salary increase 10% p.a.\n",
    "We also assume that the severance, service and seperation pay as follow :\n",
    "| Yos | Sev | Svc |\n",
    "|:---:|:---:|:---:|\n",
    "|  0  |  1  |  0  |\n",
    "|  1  |  2  |  0  |\n",
    "|  2  |  3  |  0  |\n",
    "|  3  |  4  |  2  |\n",
    "|  4  |  5  |  2  |\n",
    "|  5  |  6  |  2  |\n",
    "|  6  |  7  |  3  |\n",
    "|  7  |  8  |  3  |\n",
    "|  8  |  9  |  3  |\n",
    "|  9  |  9  |  4  |\n",
    "|  10 |  9  |  4  |\n",
    "|  11 |  9  |  4  |\n",
    "|  12 |  9  |  5  |\n",
    "|  13 |  9  |  5  |\n",
    "|  14 |  9  |  5  |\n",
    "|  15 |  9  |  6  |\n",
    "|  16 |  9  |  6  |\n",
    "|  17 |  9  |  6  |\n",
    "|  18 |  9  |  7  |\n",
    "|  19 |  9  |  7  |\n",
    "|  20 |  9  |  7  |\n",
    "|  21 |  9  |  8  |\n",
    "|  22 |  9  |  8  |\n",
    "|  23 |  9  |  8  |\n",
    "|  24 |  9  |  10 |\n",
    "|  25 |  9  |  10 |\n",
    "|  26 |  9  |  10 |\n",
    "|  27 |  9  |  10 |\n",
    "|  28 |  9  |  10 |\n",
    "|  29 |  9  |  10 |\n",
    "|  30 |  9  |  10 |  \n",
    "\n",
    "And a benefit table as follow: \n",
    "\n",
    "| YoS | Pension | Death | Disability | Resign |\n",
    "|:---:|:-------:|:-----:|:----------:|:------:|\n",
    "|  0  |   1.75  |   2   |      2     |   0.5  |\n",
    "|  1  |   3.5   |   4   |      4     |    1   |\n",
    "|  2  |   5.25  |   6   |      6     |   1.5  |\n",
    "|  3  |    9    |   10  |     10     |    2   |\n",
    "|  4  |  10.75  |   12  |     12     |   2.5  |\n",
    "|  5  |   12.5  |   14  |     14     |    3   |\n",
    "|  6  |  15.25  |   17  |     17     |   3.5  |\n",
    "|  7  |    17   |   19  |     19     |    4   |\n",
    "|  8  |  18.75  |   21  |     21     |   4.5  |\n",
    "|  9  |  19.75  |   22  |     22     |   4.5  |\n",
    "|  10 |  19.75  |   22  |     22     |   4.5  |\n",
    "|  11 |  19.75  |   22  |     22     |   4.5  |\n",
    "|  12 |  20.75  |   23  |     23     |   4.5  |\n",
    "|  13 |  20.75  |   23  |     23     |   4.5  |\n",
    "|  14 |  20.75  |   23  |     23     |   4.5  |\n",
    "|  15 |  21.75  |   24  |     24     |   4.5  |\n",
    "|  16 |  21.75  |   24  |     24     |   4.5  |\n",
    "|  17 |  21.75  |   24  |     24     |   4.5  |\n",
    "|  18 |  22.75  |   25  |     25     |   4.5  |\n",
    "|  19 |  22.75  |   25  |     25     |   4.5  |\n",
    "|  20 |  22.75  |   25  |     25     |   4.5  |\n",
    "|  21 |  23.75  |   26  |     26     |   4.5  |\n",
    "|  22 |  23.75  |   26  |     26     |   4.5  |\n",
    "|  23 |  23.75  |   26  |     26     |   4.5  |\n",
    "|  24 |  25.75  |   28  |     28     |   4.5  |\n",
    "|  25 |  25.75  |   28  |     28     |   4.5  |\n",
    "|  26 |  25.75  |   28  |     28     |   4.5  |\n",
    "|  27 |  25.75  |   28  |     28     |   4.5  |\n",
    "|  28 |  25.75  |   28  |     28     |   4.5  |\n",
    "|  29 |  25.75  |   28  |     28     |   4.5  |\n",
    "|  30 |  25.75  |   28  |     28     |   4.5  |"
   ]
  },
  {
   "attachments": {},
   "cell_type": "markdown",
   "metadata": {},
   "source": [
    "## Pre-Processing Data\n",
    "We need the information of **Age** and **Year of Service (YOS)** of each of the employees. For that we also need to define the **valuation date**. Let's assume the valuation date is 31 December 2022"
   ]
  },
  {
   "cell_type": "code",
   "execution_count": 6,
   "metadata": {},
   "outputs": [],
   "source": [
    "val_date = pd.Timestamp('2022-12-31')\n",
    "data['age'] = np.round((val_date- data.dob)/np.timedelta64(1, 'Y'),2)\n",
    "data['yos'] = np.round((val_date- data.doh)/np.timedelta64(1, 'Y'),2)"
   ]
  },
  {
   "cell_type": "code",
   "execution_count": 7,
   "metadata": {},
   "outputs": [
    {
     "data": {
      "text/html": [
       "<div>\n",
       "<style scoped>\n",
       "    .dataframe tbody tr th:only-of-type {\n",
       "        vertical-align: middle;\n",
       "    }\n",
       "\n",
       "    .dataframe tbody tr th {\n",
       "        vertical-align: top;\n",
       "    }\n",
       "\n",
       "    .dataframe thead th {\n",
       "        text-align: right;\n",
       "    }\n",
       "</style>\n",
       "<table border=\"1\" class=\"dataframe\">\n",
       "  <thead>\n",
       "    <tr style=\"text-align: right;\">\n",
       "      <th></th>\n",
       "      <th>id</th>\n",
       "      <th>dob</th>\n",
       "      <th>doh</th>\n",
       "      <th>salary</th>\n",
       "      <th>age</th>\n",
       "      <th>yos</th>\n",
       "    </tr>\n",
       "  </thead>\n",
       "  <tbody>\n",
       "    <tr>\n",
       "      <th>0</th>\n",
       "      <td>45</td>\n",
       "      <td>1986-09-10</td>\n",
       "      <td>2010-04-27</td>\n",
       "      <td>128.26</td>\n",
       "      <td>36.31</td>\n",
       "      <td>12.68</td>\n",
       "    </tr>\n",
       "    <tr>\n",
       "      <th>1</th>\n",
       "      <td>47</td>\n",
       "      <td>1970-06-26</td>\n",
       "      <td>2009-06-25</td>\n",
       "      <td>7374.20</td>\n",
       "      <td>52.52</td>\n",
       "      <td>13.52</td>\n",
       "    </tr>\n",
       "    <tr>\n",
       "      <th>2</th>\n",
       "      <td>6</td>\n",
       "      <td>1973-06-02</td>\n",
       "      <td>2014-11-20</td>\n",
       "      <td>15620.54</td>\n",
       "      <td>49.58</td>\n",
       "      <td>8.11</td>\n",
       "    </tr>\n",
       "    <tr>\n",
       "      <th>3</th>\n",
       "      <td>2</td>\n",
       "      <td>1970-06-20</td>\n",
       "      <td>2021-07-24</td>\n",
       "      <td>16248.01</td>\n",
       "      <td>52.53</td>\n",
       "      <td>1.44</td>\n",
       "    </tr>\n",
       "    <tr>\n",
       "      <th>4</th>\n",
       "      <td>2</td>\n",
       "      <td>1978-08-07</td>\n",
       "      <td>2018-06-09</td>\n",
       "      <td>4020.37</td>\n",
       "      <td>44.40</td>\n",
       "      <td>4.56</td>\n",
       "    </tr>\n",
       "  </tbody>\n",
       "</table>\n",
       "</div>"
      ],
      "text/plain": [
       "   id        dob        doh    salary    age    yos\n",
       "0  45 1986-09-10 2010-04-27    128.26  36.31  12.68\n",
       "1  47 1970-06-26 2009-06-25   7374.20  52.52  13.52\n",
       "2   6 1973-06-02 2014-11-20  15620.54  49.58   8.11\n",
       "3   2 1970-06-20 2021-07-24  16248.01  52.53   1.44\n",
       "4   2 1978-08-07 2018-06-09   4020.37  44.40   4.56"
      ]
     },
     "execution_count": 7,
     "metadata": {},
     "output_type": "execute_result"
    }
   ],
   "source": [
    "data"
   ]
  },
  {
   "attachments": {},
   "cell_type": "markdown",
   "metadata": {},
   "source": [
    "# Calculating the Post Employment Benefit"
   ]
  },
  {
   "attachments": {},
   "cell_type": "markdown",
   "metadata": {},
   "source": []
  },
  {
   "cell_type": "code",
   "execution_count": null,
   "metadata": {},
   "outputs": [],
   "source": []
  }
 ],
 "metadata": {
  "kernelspec": {
   "display_name": "Python 3.10.0 64-bit",
   "language": "python",
   "name": "python3"
  },
  "language_info": {
   "codemirror_mode": {
    "name": "ipython",
    "version": 3
   },
   "file_extension": ".py",
   "mimetype": "text/x-python",
   "name": "python",
   "nbconvert_exporter": "python",
   "pygments_lexer": "ipython3",
   "version": "3.10.0"
  },
  "orig_nbformat": 4,
  "vscode": {
   "interpreter": {
    "hash": "9be826744cc5714b462ad0c8de88bfa6f016a48973c6317b9546595d1685cabb"
   }
  }
 },
 "nbformat": 4,
 "nbformat_minor": 2
}
