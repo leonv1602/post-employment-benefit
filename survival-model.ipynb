{
 "cells": [
  {
   "attachments": {},
   "cell_type": "markdown",
   "metadata": {},
   "source": [
    "# Survival Model\n",
    "Survival model is one of the fundamental concept in Actuarial Science especially in Post Employment Benefit. We will introduce some of actuarial notations (the infamous ${}_tp_x$ and ${}_tq_x$) and create a life table from it. The purpose of this notebook to support Post Employment Benefit Calculation notebook in terms of creating actuarial assumption"
   ]
  },
  {
   "attachments": {},
   "cell_type": "markdown",
   "metadata": {},
   "source": [
    "# General Notation \n",
    "(Refer to this section if needed)\n",
    "* ${}_tp_x{} := S_X(t) := Pr[X > t]$ : the probability that ($x$) survives to at least age $x + t$,\n",
    "* ${}_tq_x{} := F_X(t) := Pr[X \\geq t]$ : the probability that ($x$) survives to die at age $x + t$,\n",
    "* $\\mu_{x+t} := - \\frac{d}{dt} \\ln{{}_tp_x}$ : force of mortality $x$ at $t$\n",
    "* $l_x$ : number of alive at time $x$\n",
    "* $d_x$ : number of dead at time $x$ "
   ]
  },
  {
   "cell_type": "code",
   "execution_count": 1,
   "metadata": {},
   "outputs": [],
   "source": [
    "# Packages \n",
    "\n",
    "import pandas as pd # Data Frame\n",
    "import numpy as np # Vector and Matrices\n",
    "import matplotlib.pyplot as plt # Graph"
   ]
  },
  {
   "attachments": {},
   "cell_type": "markdown",
   "metadata": {},
   "source": [
    "# Choosing Distribution\n",
    "\n",
    "We are going to see 2 of the famous distribution, Gompertz and Makeham distribution and comparing both of the distribution. "
   ]
  },
  {
   "attachments": {},
   "cell_type": "markdown",
   "metadata": {},
   "source": [
    "## Gompertz Distribution\n",
    "\n",
    "Assume $B > 0$ and $c>1$, we have:\n",
    "\\begin{equation}  \n",
    "\\mu_x = Bc^x\n",
    "\\label{gompertz}\n",
    "\\end{equation}\n",
    "and from \\ref{gompertz}\n",
    "\\begin{equation}\n",
    "S_X(t) = \\exp\\left\\{-\\frac{B}{\\ln{c}}c^x\\left(c^t-1\\right)\\right\\} \n",
    "\\label{survive gompertz}\n",
    "\\end{equation}"
   ]
  },
  {
   "cell_type": "markdown",
   "metadata": {},
   "source": []
  },
  {
   "cell_type": "code",
   "execution_count": null,
   "metadata": {},
   "outputs": [],
   "source": []
  }
 ],
 "metadata": {
  "kernelspec": {
   "display_name": "Python 3",
   "language": "python",
   "name": "python3"
  },
  "language_info": {
   "codemirror_mode": {
    "name": "ipython",
    "version": 3
   },
   "file_extension": ".py",
   "mimetype": "text/x-python",
   "name": "python",
   "nbconvert_exporter": "python",
   "pygments_lexer": "ipython3",
   "version": "3.10.0"
  },
  "orig_nbformat": 4,
  "vscode": {
   "interpreter": {
    "hash": "9be826744cc5714b462ad0c8de88bfa6f016a48973c6317b9546595d1685cabb"
   }
  }
 },
 "nbformat": 4,
 "nbformat_minor": 2
}
