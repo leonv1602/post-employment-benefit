{
 "cells": [
  {
   "attachments": {},
   "cell_type": "markdown",
   "metadata": {},
   "source": [
    "# Spiral Optimization Algorithm (SOA)"
   ]
  },
  {
   "attachments": {},
   "cell_type": "markdown",
   "metadata": {},
   "source": [
    "## Motivation\n",
    "\n",
    "The motivation of this repository is purely to learn about how to implement Spiral Optimization Algorithm (SOA) for $n$-dimensional optimization problem. That being said, this repository will not dive deep in the intuition why or how this algorithm work. Reader who interested can see the reference below.  "
   ]
  },
  {
   "attachments": {},
   "cell_type": "markdown",
   "metadata": {},
   "source": [
    "## Algorithm  \n",
    "The main idea for SOA, is to \"rotate\" a set of guesses to the solution of the problem. Therefore, the problem is to how to \"rotate\" the guesses. The algorithm can be found bellow:\n",
    "\n",
    "0. Set the number of search points $m \\geq 2$ and maximum iteration number. \n",
    "For $k$ in range of maximum iteration, do the following:  \n",
    "1. Place the initial search points $x_i(0)\\in \\mathbb{R}^n (i = 1, \\dots, m)$ and determine the center $x^*(0) = x_{i_b}(0), i_b = \\arg\\min_{i = 1,\\dots, m}\\left\\{ f(x_i(0))\\right\\}$, and then set $k =0$\n",
    "2. Update the search points \n",
    "\\begin{equation}\n",
    "x_i(k+1) = x^*(k) + r(k)R^{(n)}(\\theta)(x_i(k) - x^*(k)) (i = 1, \\dots, m)\n",
    "\\end{equation}\n",
    "3. Update the center:\n",
    "\\begin{equation}\n",
    "x^*(k+1) = \\begin{cases}\n",
    "x_{i_b}(k+1), \\quad (\\text{if } f(x_{i_b}(k+1)) < f(x^*(k))) \\\\\n",
    "x^*(k), \\quad (\\text{otherwise})\n",
    "\\end{cases}\n",
    "\\end{equation}\n",
    "where $i_b = \\arg\\min_{i = 1,\\dots, m}\\left\\{ f(x_i(0))\\right\\}$\n",
    "\n",
    "If the iteration has complete, the solution is $x^*(k)$"
   ]
  },
  {
   "attachments": {},
   "cell_type": "markdown",
   "metadata": {},
   "source": [
    "$R(\\theta)^{(n)}$ is a product matrix of matrix rotation as equation below: \n",
    "\\begin{equation}\n",
    "R^{(n)}(\\theta) := \\prod_{i=1}^{n-1}\\left( \\prod_{j=1}^i R_{n-i,n+1-j}^{(n)}\\right)\n",
    "\\end{equation}\n",
    "with $R^{(n)}_{i,j}$ where the digonal entry of the matrix is 1, $\\cos{\\theta}$ for row $i$ and column $i$, $-\\sin{\\theta}$ for row $i$ and column $j$, $\\sin{\\theta}$ for row $j$ and column $i$ and $\\cos{\\theta}$ for row $j$ and column $j$, and 0 elsewhere. "
   ]
  },
  {
   "attachments": {},
   "cell_type": "markdown",
   "metadata": {},
   "source": [
    "## Python Code"
   ]
  },
  {
   "cell_type": "code",
   "execution_count": 1,
   "metadata": {},
   "outputs": [],
   "source": [
    "import numpy as np\n",
    "import matplotlib.pyplot as plt "
   ]
  },
  {
   "attachments": {},
   "cell_type": "markdown",
   "metadata": {},
   "source": [
    "Would like to minimize arbitrary function with 2 variables as follow: \n",
    "$$\n",
    "\\min f(x_1, x_2) = \\frac{x_1^4 - 16x_1^2 +5x_1}{2} - \\frac{x_2^4 - 16x_2^2 + 5x_2}{2} \n",
    "$$\n",
    "with $x_1,x_2\\in (-4,4)$"
   ]
  },
  {
   "cell_type": "code",
   "execution_count": 2,
   "metadata": {},
   "outputs": [],
   "source": [
    "def f_x1x2(x1, x2):\n",
    "    return (x1**4 - 16*x1**2 + 5*x1)/2-(x2**4 - 16*x2**2 + 5*x2)/2"
   ]
  },
  {
   "cell_type": "code",
   "execution_count": 3,
   "metadata": {},
   "outputs": [],
   "source": [
    "x1 = np.linspace(-4, 4, 1000)\n",
    "x2 = np.linspace(-4, 4,1000)\n",
    "xx, yy = np.meshgrid(x1, x2)\n",
    "fx1x2 = f_x1x2(xx,yy)\n",
    "\n",
    "fig = plt.figure()\n",
    "ax = fig.add_subplot(111, projection='3d')\n",
    "ax.plot_surface(xx, yy, fx1x2)\n",
    "plt.title('Optimization Problem 1')\n",
    "plt.show()"
   ]
  },
  {
   "cell_type": "code",
   "execution_count": null,
   "metadata": {},
   "outputs": [],
   "source": [
    "def spo(max_iter = 300, theta = np.pi/4, m = 30, r = 0.95, n = 2):\n",
    "    # Initial Guess\n",
    "    guess = np.random.uniform(-4,4, (m,n))\n",
    "    fx_value = f_x1x2(guess[:,0], guess[:,1])\n",
    "    guess_star = guess[np.argmin(fx_value)]      \n",
    "    # Rotation Matrix\n",
    "    rot_matrix = r*np.eye(n)\n",
    "\n",
    "    for i in range(n-1):\n",
    "        for j in range(i+1):\n",
    "            r_n = np.eye(n)\n",
    "            r_n[n-i-2,n-i-2] = np.cos(theta)\n",
    "            r_n[n-i-2,n-j-1] = -np.sin(theta)\n",
    "            r_n[n-j-1,n-i-2] = np.sin(theta)\n",
    "            r_n[n-j-1,n-j-1] = np.cos(theta)\n",
    "            rot_matrix = rot_matrix.dot(r_n)\n",
    "            \n",
    "    # Update Algorithm \n",
    "    for k in range(max_iter):\n",
    "        for i in range(guess.shape[0]):\n",
    "            guess[i] = rot_matrix.dot(guess[i]) - (rot_matrix - np.eye(n)).dot(guess_star)\n",
    "            if guess[i,0] < -4 :\n",
    "                guess[i,0] += 4\n",
    "            elif guess[i,0] > 4:\n",
    "                guess[i,0] -= 4\n",
    "            if guess[i,1] < -4 :\n",
    "                guess[i,1] += 4\n",
    "            elif guess[i,1] > 4:\n",
    "                guess[i,1] -= 4                 \n",
    "        fx_value = f_x1x2(guess[:,0], guess[:,1])\n",
    "        guess_star = guess[np.argmin(fx_value)]   \n",
    "           \n",
    "    return guess_star"
   ]
  },
  {
   "cell_type": "code",
   "execution_count": null,
   "metadata": {},
   "outputs": [],
   "source": [
    "sol = spo(max_iter= 100, m =30, r = 0.95)\n",
    "print(f'Solution of the problem 1 is {sol}, with minimum value of {f_x1x2(sol[0], sol[1])}')\n"
   ]
  },
  {
   "attachments": {},
   "cell_type": "markdown",
   "metadata": {},
   "source": [
    "### Rastrigin Function   \n",
    "\n",
    "\\begin{equation}\n",
    "f(\\mathbf{x}) = \\sum_{i=1}^n\\left(x_i^2 - 10 \\cos\\left(2\\pi x_1\\right) + 10\\right)\n",
    "\\end{equation}\n",
    "with $x_i \\in [-5,5] \\quad \\forall i = 1,2,\\dots, n$"
   ]
  },
  {
   "cell_type": "code",
   "execution_count": null,
   "metadata": {},
   "outputs": [],
   "source": [
    "def f_x1x2(x1, x2):\n",
    "    return x1**2 - 10*np.cos(2*np.pi*x1) + 10 + x2**2 - 10*np.cos(2*np.pi*x2) + 10"
   ]
  },
  {
   "cell_type": "code",
   "execution_count": null,
   "metadata": {},
   "outputs": [],
   "source": [
    "\n",
    "def spo(max_iter = 300, theta = np.pi/4, m = 30, r=0.95, n = 2):\n",
    "    # Initial Guess\n",
    "    guess = np.random.uniform(-5,5, (m,n))\n",
    "    fx_value = f_x1x2(guess[:,0], guess[:,1])\n",
    "    guess_star = guess[np.argmin(fx_value)]      \n",
    "    \n",
    "    # Rotation Matrix\n",
    "    rot_matrix = r*np.eye(n)\n",
    "\n",
    "    for i in range(n-1):\n",
    "        for j in range(i+1):\n",
    "            r_n = np.eye(n)\n",
    "            r_n[n-i-2,n-i-2] = np.cos(theta)\n",
    "            r_n[n-i-2,n-j-1] = -np.sin(theta)\n",
    "            r_n[n-j-1,n-i-2] = np.sin(theta)\n",
    "            r_n[n-j-1,n-j-1] = np.cos(theta)\n",
    "            rot_matrix = rot_matrix.dot(r_n)\n",
    "            \n",
    "    # Update Algorithm \n",
    "    for k in range(max_iter):\n",
    "        for i in range(guess.shape[0]):\n",
    "            guess[i] = rot_matrix.dot(guess[i]) - (rot_matrix - np.eye(n)).dot(guess_star)\n",
    "            if guess[i,0] < -5 :\n",
    "                guess[i,0] += 5\n",
    "            elif guess[i,0] > 5:\n",
    "                guess[i,0] -= 5\n",
    "            if guess[i,1] < -5 :\n",
    "                guess[i,1] += 5\n",
    "            elif guess[i,1] > 5:\n",
    "                guess[i,1] -= 5                 \n",
    "        fx_value = f_x1x2(guess[:,0], guess[:,1])\n",
    "        guess_star = guess[np.argmin(fx_value)]   \n",
    "        fx_value = f_x1x2(guess[:,0], guess[:,1])\n",
    "        guess_star = guess[np.argmin(fx_value)]     \n",
    "           \n",
    "    return guess_star"
   ]
  },
  {
   "cell_type": "code",
   "execution_count": null,
   "metadata": {},
   "outputs": [],
   "source": [
    "x1 = np.linspace(-5,5, 1000)\n",
    "x2 = np.linspace(-5, 5,1000)\n",
    "xx, yy = np.meshgrid(x1, x2)\n",
    "fx1x2 = f_x1x2(xx,yy)\n",
    "\n",
    "fig = plt.figure()\n",
    "ax = fig.add_subplot(111, projection='3d')\n",
    "ax.plot_surface(xx, yy, fx1x2)\n",
    "plt.title('Rastrigin Function')\n",
    "plt.show()"
   ]
  },
  {
   "cell_type": "code",
   "execution_count": null,
   "metadata": {},
   "outputs": [],
   "source": [
    "sol = spo(max_iter = 200, m = 100, n = 2)\n",
    "print(f'Solution of the Rastrigin Problem is {sol}, with minimum value of {f_x1x2(sol[0], sol[1])}')"
   ]
  },
  {
   "attachments": {},
   "cell_type": "markdown",
   "metadata": {},
   "source": [
    "Suppose we want to expand Rastrigin Function for $n$-dimension then the code is as follow:"
   ]
  },
  {
   "cell_type": "code",
   "execution_count": null,
   "metadata": {},
   "outputs": [],
   "source": [
    "def f_x1x2(*x):\n",
    "    fx = 0\n",
    "    for i in range(len(x)):\n",
    "        fx +=  x[i]**2 - 10*np.cos(2*np.pi*x[i]) + 10\n",
    "    return fx"
   ]
  },
  {
   "cell_type": "code",
   "execution_count": null,
   "metadata": {},
   "outputs": [],
   "source": [
    "sol = spo(max_iter = 200, m = 100, n = 10)\n",
    "print(f'Solution of the Rastrigin Problem is {sol}, with minimum value of {np.sum(f_x1x2(sol))}')"
   ]
  },
  {
   "attachments": {},
   "cell_type": "markdown",
   "metadata": {},
   "source": [
    "## Final Thoughts\n",
    "Bear in mind that this is a metaheuristics algorithm, meaning that the solution of the problem is not always the same (especially we use random number to make guesses). The main point of having or implementing different algorithm is to find the best solution with the cheapest computation costs."
   ]
  },
  {
   "attachments": {},
   "cell_type": "markdown",
   "metadata": {},
   "source": [
    "## References\n",
    "\n",
    "To be completly honest, I have not found a credible source to cite for SOA, I will only put a relevant source that I use to create this repository.  \n",
    "[Spiral Optimization Algorithm](http://matematika.fmipa.unand.ac.id/images/bahan-seminar/Spiral_Optimization_Algorithm.pdf)"
   ]
  }
 ],
 "metadata": {
  "kernelspec": {
   "display_name": "Python 3",
   "language": "python",
   "name": "python3"
  },
  "language_info": {
   "codemirror_mode": {
    "name": "ipython",
    "version": 3
   },
   "file_extension": ".py",
   "mimetype": "text/x-python",
   "name": "python",
   "nbconvert_exporter": "python",
   "pygments_lexer": "ipython3",
   "version": "3.10.0"
  },
  "orig_nbformat": 4,
  "vscode": {
   "interpreter": {
    "hash": "9be826744cc5714b462ad0c8de88bfa6f016a48973c6317b9546595d1685cabb"
   }
  }
 },
 "nbformat": 4,
 "nbformat_minor": 2
}
