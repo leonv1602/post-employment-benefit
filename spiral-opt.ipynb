{
 "cells": [
  {
   "attachments": {},
   "cell_type": "markdown",
   "metadata": {},
   "source": [
    "# Spiral Optimization Algorithm (SOA)"
   ]
  },
  {
   "attachments": {},
   "cell_type": "markdown",
   "metadata": {},
   "source": [
    "## Motivation\n",
    "\n",
    "The motivation of this repository is purely to learn about how to implement Spiral Optimization Algorithm (SOA) for $n$-dimensional optimization problem. That being said, this repository will not dive deep in the intuition why or how this algorithm work. Reader who interested can see the reference below.  "
   ]
  },
  {
   "attachments": {},
   "cell_type": "markdown",
   "metadata": {},
   "source": [
    "## Algorithm  \n",
    "The main idea for SOA, is to \"rotate\" a set of guesses to the solution of the problem. Therefore, the problem is to how to \"rotate\" the guesses. The algorithm can be found bellow:\n",
    "\n",
    "0. Set the number of search points $m \\geq 2$ and maximum iteration number. \n",
    "For $k$ in range of maximum iteration, do the following:  \n",
    "1. Place the initial search points $x_i(0)\\in \\mathbb{R}^n (i = 1, \\dots, m)$ and determine the center $x^*(0) = x_{i_b}(0), i_b = \\arg\\min_{i = 1,\\dots, m}\\left\\{ f(x_i(0))\\right\\}$, and then set $k =0$\n",
    "2. Update the search points \n",
    "\\begin{equation}\n",
    "x_i(k+1) = x^*(k) + r(k)R(\\theta)^{(n)}(x_i(k) - x^*(k)) (i = 1, \\dots, m)\n",
    "\\end{equation}\n",
    "3. Update the center:\n",
    "\\begin{equation}\n",
    "x^*(k+1) = \\begin{cases}\n",
    "x_{i_b}(k+1), \\quad (\\text{if } f(x_{i_b}(k+1)) < f(x^*(k))) \\\\\n",
    "x^*(k), \\quad (\\text{otherwise})\n",
    "\\end{cases}\n",
    "\\end{equation}\n",
    "where $i_b = \\arg\\min_{i = 1,\\dots, m}\\left\\{ f(x_i(0))\\right\\}$\n",
    "\n",
    "If the iteration has complete, the solution is $x^*(k)$"
   ]
  },
  {
   "attachments": {},
   "cell_type": "markdown",
   "metadata": {},
   "source": [
    "$R(\\theta)^{(n)}$ is a product matrix of matrix rotation as equation below: \n",
    "\\begin{equation}\n",
    "R(\\theta)^{(n)} := \\product_{i=1}^{n-1}\\left( \\product_{j=1}^i R_{n-i,n+1-j}^{(n)}\\right)\n",
    "\\end{equation}\n",
    "with $R_{i,j}$ where the digonal entry of the matrix is 1, $\\cos{\\theta}$ for row $i$ and column $i$, $-\\sin{\\theta}$ for row $i$ and column $j$, $\\sin{\\theta}$ for row $j$ and column $i$ and $\\cos{\\theta}$ for row $j$ and column $j$, and 0 elsewhere. "
   ]
  },
  {
   "cell_type": "code",
   "execution_count": 5,
   "metadata": {},
   "outputs": [],
   "source": [
    "import numpy as np\n",
    "import matplotlib.pyplot as plt "
   ]
  },
  {
   "attachments": {},
   "cell_type": "markdown",
   "metadata": {},
   "source": [
    "Would like to minimize arbitrary function with 2 variables as follow: \n",
    "$$\n",
    "\\min f(x_1, x_2) = \\sin(x_1^3 + 2x_1) + 2 \\exp{\\frac{-\\left(x_2 + x_1^{2}\\right)}{2}} \n",
    "$$\n",
    "with $x_1 \\in (0,10)$ and $x_2 \\in (1,10)$"
   ]
  },
  {
   "cell_type": "code",
   "execution_count": 4,
   "metadata": {},
   "outputs": [
    {
     "ename": "SyntaxError",
     "evalue": "expected ':' (36432118.py, line 6)",
     "output_type": "error",
     "traceback": [
      "\u001b[1;36m  Cell \u001b[1;32mIn [4], line 6\u001b[1;36m\u001b[0m\n\u001b[1;33m    while k\u001b[0m\n\u001b[1;37m            ^\u001b[0m\n\u001b[1;31mSyntaxError\u001b[0m\u001b[1;31m:\u001b[0m expected ':'\n"
     ]
    }
   ],
   "source": [
    "max_iter = 1e3\n",
    "n = 2 # 2 variables\n",
    "init_search = np.random.randint(1,10,2)\n",
    "r_k = np.array([1 if i < 2*n - 1 else np.random.randn()**(1/(2*n)) for i in range(max_iter)])\n",
    "theta = np.pi/4\n",
    "rotate_matrix = np.array([[np.cos(theta),-np.sin(theta)],[np.sin(theta),np.cos(theta)]])\n",
    "r = np.diag(0.4,2)\n",
    "k = 0\n",
    "while k < max_iter: \n",
    "    candidate = init_search + r_k[k]*\n",
    "    k+=1"
   ]
  },
  {
   "cell_type": "code",
   "execution_count": 47,
   "metadata": {},
   "outputs": [
    {
     "data": {
      "image/png": "[encoded data removed]",
      "text/plain": [
       "<Figure size 640x480 with 1 Axes>"
      ]
     },
     "metadata": {},
     "output_type": "display_data"
    }
   ],
   "source": [
    "x_0 = np.random.randint(1,40,2)\n",
    "theta = np.pi/24\n",
    "rotate_matrix = np.array([[np.cos(theta),-np.sin(theta)],[np.sin(theta),np.cos(theta)]])\n",
    "r = 0.8*np.eye(2)\n",
    "x = [x_0[0]]\n",
    "y = [x_0[1]]\n",
    "for n in range(100): \n",
    "    x_0 = r.dot(rotate_matrix).dot(x_0)\n",
    "    x.append(x_0[0])\n",
    "    y.append(x_0[1])\n",
    "plt.scatter(x, y)\n",
    "plt.show()"
   ]
  },
  {
   "cell_type": "code",
   "execution_count": 22,
   "metadata": {},
   "outputs": [
    {
     "data": {
      "image/png": "[encoded data removed]",
      "text/plain": [
       "<Figure size 640x480 with 1 Axes>"
      ]
     },
     "metadata": {},
     "output_type": "display_data"
    }
   ],
   "source": []
  },
  {
   "cell_type": "code",
   "execution_count": null,
   "metadata": {},
   "outputs": [],
   "source": []
  },
  {
   "attachments": {},
   "cell_type": "markdown",
   "metadata": {},
   "source": [
    "## References\n",
    "\n",
    "To be completed honest, I have not found a credible source to cite for SOA, I will only put a relevant source that I use to create this repository.  \n",
    "[Spiral Optimization Algorithm](http://matematika.fmipa.unand.ac.id/images/bahan-seminar/Spiral_Optimization_Algorithm.pdf)"
   ]
  }
 ],
 "metadata": {
  "kernelspec": {
   "display_name": "Python 3",
   "language": "python",
   "name": "python3"
  },
  "language_info": {
   "codemirror_mode": {
    "name": "ipython",
    "version": 3
   },
   "file_extension": ".py",
   "mimetype": "text/x-python",
   "name": "python",
   "nbconvert_exporter": "python",
   "pygments_lexer": "ipython3",
   "version": "3.10.0"
  },
  "orig_nbformat": 4,
  "vscode": {
   "interpreter": {
    "hash": "9be826744cc5714b462ad0c8de88bfa6f016a48973c6317b9546595d1685cabb"
   }
  }
 },
 "nbformat": 4,
 "nbformat_minor": 2
}
