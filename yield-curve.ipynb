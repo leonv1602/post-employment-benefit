{
 "cells": [
  {
   "cell_type": "code",
   "execution_count": 1,
   "metadata": {},
   "outputs": [],
   "source": [
    "import pandas as pd\n",
    "import numpy as np\n",
    "from sklearn.decomposition import PCA\n",
    "import matplotlib.pyplot as plt"
   ]
  },
  {
   "attachments": {},
   "cell_type": "markdown",
   "metadata": {},
   "source": [
    "# PCA"
   ]
  },
  {
   "cell_type": "code",
   "execution_count": 2,
   "metadata": {},
   "outputs": [
    {
     "data": {
      "text/html": [
       "<div>\n",
       "<style scoped>\n",
       "    .dataframe tbody tr th:only-of-type {\n",
       "        vertical-align: middle;\n",
       "    }\n",
       "\n",
       "    .dataframe tbody tr th {\n",
       "        vertical-align: top;\n",
       "    }\n",
       "\n",
       "    .dataframe thead th {\n",
       "        text-align: right;\n",
       "    }\n",
       "</style>\n",
       "<table border=\"1\" class=\"dataframe\">\n",
       "  <thead>\n",
       "    <tr style=\"text-align: right;\">\n",
       "      <th></th>\n",
       "      <th>R_3M</th>\n",
       "      <th>R_6M</th>\n",
       "      <th>R_1Y</th>\n",
       "      <th>R_2Y</th>\n",
       "      <th>R_3Y</th>\n",
       "      <th>R_5Y</th>\n",
       "      <th>R_7Y</th>\n",
       "      <th>R_10Y</th>\n",
       "    </tr>\n",
       "  </thead>\n",
       "  <tbody>\n",
       "    <tr>\n",
       "      <th>1981-12-31</th>\n",
       "      <td>12.92</td>\n",
       "      <td>13.90</td>\n",
       "      <td>14.32</td>\n",
       "      <td>14.57</td>\n",
       "      <td>14.64</td>\n",
       "      <td>14.65</td>\n",
       "      <td>14.67</td>\n",
       "      <td>14.59</td>\n",
       "    </tr>\n",
       "    <tr>\n",
       "      <th>1982-01-31</th>\n",
       "      <td>14.28</td>\n",
       "      <td>14.81</td>\n",
       "      <td>14.73</td>\n",
       "      <td>14.82</td>\n",
       "      <td>14.73</td>\n",
       "      <td>14.54</td>\n",
       "      <td>14.46</td>\n",
       "      <td>14.43</td>\n",
       "    </tr>\n",
       "    <tr>\n",
       "      <th>1982-02-28</th>\n",
       "      <td>13.31</td>\n",
       "      <td>13.83</td>\n",
       "      <td>13.95</td>\n",
       "      <td>14.19</td>\n",
       "      <td>14.13</td>\n",
       "      <td>13.98</td>\n",
       "      <td>13.93</td>\n",
       "      <td>13.86</td>\n",
       "    </tr>\n",
       "    <tr>\n",
       "      <th>1982-03-31</th>\n",
       "      <td>13.34</td>\n",
       "      <td>13.87</td>\n",
       "      <td>13.98</td>\n",
       "      <td>14.20</td>\n",
       "      <td>14.18</td>\n",
       "      <td>14.00</td>\n",
       "      <td>13.94</td>\n",
       "      <td>13.87</td>\n",
       "    </tr>\n",
       "    <tr>\n",
       "      <th>1982-04-30</th>\n",
       "      <td>12.71</td>\n",
       "      <td>13.13</td>\n",
       "      <td>13.34</td>\n",
       "      <td>13.78</td>\n",
       "      <td>13.77</td>\n",
       "      <td>13.75</td>\n",
       "      <td>13.74</td>\n",
       "      <td>13.62</td>\n",
       "    </tr>\n",
       "    <tr>\n",
       "      <th>...</th>\n",
       "      <td>...</td>\n",
       "      <td>...</td>\n",
       "      <td>...</td>\n",
       "      <td>...</td>\n",
       "      <td>...</td>\n",
       "      <td>...</td>\n",
       "      <td>...</td>\n",
       "      <td>...</td>\n",
       "    </tr>\n",
       "    <tr>\n",
       "      <th>2012-07-31</th>\n",
       "      <td>0.10</td>\n",
       "      <td>0.14</td>\n",
       "      <td>0.18</td>\n",
       "      <td>0.27</td>\n",
       "      <td>0.37</td>\n",
       "      <td>0.71</td>\n",
       "      <td>1.14</td>\n",
       "      <td>1.68</td>\n",
       "    </tr>\n",
       "    <tr>\n",
       "      <th>2012-08-31</th>\n",
       "      <td>0.11</td>\n",
       "      <td>0.14</td>\n",
       "      <td>0.18</td>\n",
       "      <td>0.26</td>\n",
       "      <td>0.34</td>\n",
       "      <td>0.67</td>\n",
       "      <td>1.12</td>\n",
       "      <td>1.72</td>\n",
       "    </tr>\n",
       "    <tr>\n",
       "      <th>2012-09-30</th>\n",
       "      <td>0.10</td>\n",
       "      <td>0.15</td>\n",
       "      <td>0.18</td>\n",
       "      <td>0.28</td>\n",
       "      <td>0.37</td>\n",
       "      <td>0.71</td>\n",
       "      <td>1.15</td>\n",
       "      <td>1.75</td>\n",
       "    </tr>\n",
       "    <tr>\n",
       "      <th>2012-10-31</th>\n",
       "      <td>0.09</td>\n",
       "      <td>0.14</td>\n",
       "      <td>0.18</td>\n",
       "      <td>0.27</td>\n",
       "      <td>0.36</td>\n",
       "      <td>0.67</td>\n",
       "      <td>1.08</td>\n",
       "      <td>1.65</td>\n",
       "    </tr>\n",
       "    <tr>\n",
       "      <th>2012-11-30</th>\n",
       "      <td>0.07</td>\n",
       "      <td>0.12</td>\n",
       "      <td>0.16</td>\n",
       "      <td>0.26</td>\n",
       "      <td>0.35</td>\n",
       "      <td>0.70</td>\n",
       "      <td>1.13</td>\n",
       "      <td>1.72</td>\n",
       "    </tr>\n",
       "  </tbody>\n",
       "</table>\n",
       "<p>372 rows × 8 columns</p>\n",
       "</div>"
      ],
      "text/plain": [
       "             R_3M   R_6M   R_1Y   R_2Y   R_3Y   R_5Y   R_7Y  R_10Y\n",
       "1981-12-31  12.92  13.90  14.32  14.57  14.64  14.65  14.67  14.59\n",
       "1982-01-31  14.28  14.81  14.73  14.82  14.73  14.54  14.46  14.43\n",
       "1982-02-28  13.31  13.83  13.95  14.19  14.13  13.98  13.93  13.86\n",
       "1982-03-31  13.34  13.87  13.98  14.20  14.18  14.00  13.94  13.87\n",
       "1982-04-30  12.71  13.13  13.34  13.78  13.77  13.75  13.74  13.62\n",
       "...           ...    ...    ...    ...    ...    ...    ...    ...\n",
       "2012-07-31   0.10   0.14   0.18   0.27   0.37   0.71   1.14   1.68\n",
       "2012-08-31   0.11   0.14   0.18   0.26   0.34   0.67   1.12   1.72\n",
       "2012-09-30   0.10   0.15   0.18   0.28   0.37   0.71   1.15   1.75\n",
       "2012-10-31   0.09   0.14   0.18   0.27   0.36   0.67   1.08   1.65\n",
       "2012-11-30   0.07   0.12   0.16   0.26   0.35   0.70   1.13   1.72\n",
       "\n",
       "[372 rows x 8 columns]"
      ]
     },
     "execution_count": 2,
     "metadata": {},
     "output_type": "execute_result"
    }
   ],
   "source": [
    "df = pd.read_csv('FedYieldCurve.csv', index_col = 'Unnamed: 0')\n",
    "df"
   ]
  },
  {
   "cell_type": "code",
   "execution_count": 3,
   "metadata": {},
   "outputs": [
    {
     "data": {
      "text/plain": [
       "array([[ 8.11896669e+00, -3.36699780e-02, -2.58450685e-02],\n",
       "       [ 8.40610496e+00,  4.12873617e-01, -2.13726479e-01],\n",
       "       [ 7.75721621e+00,  2.83637324e-01, -1.28682042e-01],\n",
       "       ...,\n",
       "       [-4.55862034e+00,  2.50518545e-01,  5.46911722e-03],\n",
       "       [-4.58873504e+00,  2.79431560e-01,  2.18336972e-02],\n",
       "       [-4.57953612e+00,  2.49087599e-01,  1.04525224e-02]])"
      ]
     },
     "execution_count": 3,
     "metadata": {},
     "output_type": "execute_result"
    }
   ],
   "source": [
    "M = (df.to_numpy()-df.mean().values)/df.std().values\n",
    "pca = PCA(n_components=3).fit_transform(M)\n",
    "pca"
   ]
  },
  {
   "cell_type": "code",
   "execution_count": 4,
   "metadata": {},
   "outputs": [],
   "source": [
    "yield_curve = pd.DataFrame(data = pca, index = df.index, columns=['level','slope' ,'curvature'])"
   ]
  },
  {
   "cell_type": "code",
   "execution_count": 5,
   "metadata": {},
   "outputs": [
    {
     "data": {
      "text/html": [
       "<div>\n",
       "<style scoped>\n",
       "    .dataframe tbody tr th:only-of-type {\n",
       "        vertical-align: middle;\n",
       "    }\n",
       "\n",
       "    .dataframe tbody tr th {\n",
       "        vertical-align: top;\n",
       "    }\n",
       "\n",
       "    .dataframe thead th {\n",
       "        text-align: right;\n",
       "    }\n",
       "</style>\n",
       "<table border=\"1\" class=\"dataframe\">\n",
       "  <thead>\n",
       "    <tr style=\"text-align: right;\">\n",
       "      <th></th>\n",
       "      <th>level</th>\n",
       "      <th>slope</th>\n",
       "      <th>curvature</th>\n",
       "    </tr>\n",
       "  </thead>\n",
       "  <tbody>\n",
       "    <tr>\n",
       "      <th>1981-12-31</th>\n",
       "      <td>8.118967</td>\n",
       "      <td>-0.033670</td>\n",
       "      <td>-0.025845</td>\n",
       "    </tr>\n",
       "    <tr>\n",
       "      <th>1982-01-31</th>\n",
       "      <td>8.406105</td>\n",
       "      <td>0.412874</td>\n",
       "      <td>-0.213726</td>\n",
       "    </tr>\n",
       "    <tr>\n",
       "      <th>1982-02-28</th>\n",
       "      <td>7.757216</td>\n",
       "      <td>0.283637</td>\n",
       "      <td>-0.128682</td>\n",
       "    </tr>\n",
       "    <tr>\n",
       "      <th>1982-03-31</th>\n",
       "      <td>7.780115</td>\n",
       "      <td>0.290709</td>\n",
       "      <td>-0.126933</td>\n",
       "    </tr>\n",
       "    <tr>\n",
       "      <th>1982-04-30</th>\n",
       "      <td>7.374156</td>\n",
       "      <td>0.128420</td>\n",
       "      <td>-0.102887</td>\n",
       "    </tr>\n",
       "    <tr>\n",
       "      <th>...</th>\n",
       "      <td>...</td>\n",
       "      <td>...</td>\n",
       "      <td>...</td>\n",
       "    </tr>\n",
       "    <tr>\n",
       "      <th>2012-07-31</th>\n",
       "      <td>-4.570811</td>\n",
       "      <td>0.263368</td>\n",
       "      <td>0.015392</td>\n",
       "    </tr>\n",
       "    <tr>\n",
       "      <th>2012-08-31</th>\n",
       "      <td>-4.576198</td>\n",
       "      <td>0.264196</td>\n",
       "      <td>0.001650</td>\n",
       "    </tr>\n",
       "    <tr>\n",
       "      <th>2012-09-30</th>\n",
       "      <td>-4.558620</td>\n",
       "      <td>0.250519</td>\n",
       "      <td>0.005469</td>\n",
       "    </tr>\n",
       "    <tr>\n",
       "      <th>2012-10-31</th>\n",
       "      <td>-4.588735</td>\n",
       "      <td>0.279432</td>\n",
       "      <td>0.021834</td>\n",
       "    </tr>\n",
       "    <tr>\n",
       "      <th>2012-11-30</th>\n",
       "      <td>-4.579536</td>\n",
       "      <td>0.249088</td>\n",
       "      <td>0.010453</td>\n",
       "    </tr>\n",
       "  </tbody>\n",
       "</table>\n",
       "<p>372 rows × 3 columns</p>\n",
       "</div>"
      ],
      "text/plain": [
       "               level     slope  curvature\n",
       "1981-12-31  8.118967 -0.033670  -0.025845\n",
       "1982-01-31  8.406105  0.412874  -0.213726\n",
       "1982-02-28  7.757216  0.283637  -0.128682\n",
       "1982-03-31  7.780115  0.290709  -0.126933\n",
       "1982-04-30  7.374156  0.128420  -0.102887\n",
       "...              ...       ...        ...\n",
       "2012-07-31 -4.570811  0.263368   0.015392\n",
       "2012-08-31 -4.576198  0.264196   0.001650\n",
       "2012-09-30 -4.558620  0.250519   0.005469\n",
       "2012-10-31 -4.588735  0.279432   0.021834\n",
       "2012-11-30 -4.579536  0.249088   0.010453\n",
       "\n",
       "[372 rows x 3 columns]"
      ]
     },
     "execution_count": 5,
     "metadata": {},
     "output_type": "execute_result"
    }
   ],
   "source": [
    "yield_curve"
   ]
  },
  {
   "cell_type": "code",
   "execution_count": 6,
   "metadata": {},
   "outputs": [
    {
     "ename": "NameError",
     "evalue": "name 'i' is not defined",
     "output_type": "error",
     "traceback": [
      "\u001b[1;31m---------------------------------------------------------------------------\u001b[0m",
      "\u001b[1;31mNameError\u001b[0m                                 Traceback (most recent call last)",
      "Cell \u001b[1;32mIn [6], line 1\u001b[0m\n\u001b[1;32m----> 1\u001b[0m yield_curve\u001b[39m.\u001b[39mcolumns[i]\n",
      "\u001b[1;31mNameError\u001b[0m: name 'i' is not defined"
     ]
    }
   ],
   "source": [
    "yield_curve.columns[i]"
   ]
  },
  {
   "cell_type": "code",
   "execution_count": 9,
   "metadata": {},
   "outputs": [
    {
     "data": {
      "text/plain": [
       "<AxesSubplot: title={'center': 'Level'}>"
      ]
     },
     "execution_count": 9,
     "metadata": {},
     "output_type": "execute_result"
    },
    {
     "data": {
      "image/png": "[encoded data removed]",
      "text/plain": [
       "<Figure size 1200x900 with 1 Axes>"
      ]
     },
     "metadata": {},
     "output_type": "display_data"
    }
   ],
   "source": [
    "fig, ax = plt.subplots(figsize = (12,9))\n",
    "plt.title('Level')\n",
    "yield_curve.level.plot()"
   ]
  },
  {
   "cell_type": "code",
   "execution_count": null,
   "metadata": {},
   "outputs": [
    {
     "data": {
      "text/plain": [
       "(2, 372)"
      ]
     },
     "execution_count": 103,
     "metadata": {},
     "output_type": "execute_result"
    }
   ],
   "source": [
    "H = np.vstack((np.ones(yield_curve.shape[0]),np.exp(np.arange(0,yield_curve.shape[0]))))\n",
    "H"
   ]
  },
  {
   "attachments": {},
   "cell_type": "markdown",
   "metadata": {},
   "source": [
    "# Nelson - Siegel Model"
   ]
  },
  {
   "cell_type": "code",
   "execution_count": 27,
   "metadata": {},
   "outputs": [],
   "source": [
    "import numpy as np\n",
    "\n",
    "M = np.array([[2.0,3.0],\n",
    "              [1.0, 2.5],\n",
    "              [3.5,1.5]])\n",
    "eig_U, eig_vec_U = np.linalg.eig(M.dot(M.T)) \n",
    "eig_V, eig_vec_V = np.linalg.eig(M.T.dot(M))\n"
   ]
  },
  {
   "cell_type": "code",
   "execution_count": 40,
   "metadata": {},
   "outputs": [],
   "source": [
    "Sigma = eig_vec_U.T.dot(M.dot(eig_vec_V))"
   ]
  },
  {
   "cell_type": "code",
   "execution_count": 48,
   "metadata": {},
   "outputs": [
    {
     "data": {
      "text/plain": [
       "array([[ 0.69102937, -3.53871141],\n",
       "       [ 1.04940014, -2.4796692 ],\n",
       "       [-1.43026906, -3.52906934]])"
      ]
     },
     "execution_count": 48,
     "metadata": {},
     "output_type": "execute_result"
    }
   ],
   "source": [
    "M.dot(eig_vec_V)"
   ]
  },
  {
   "cell_type": "code",
   "execution_count": 47,
   "metadata": {},
   "outputs": [
    {
     "data": {
      "text/plain": [
       "array([ 0.69102937,  1.04940014, -1.43026906])"
      ]
     },
     "execution_count": 47,
     "metadata": {},
     "output_type": "execute_result"
    }
   ],
   "source": [
    "M.dot(eig_vec_V[:,0])"
   ]
  }
 ],
 "metadata": {
  "kernelspec": {
   "display_name": "Python 3",
   "language": "python",
   "name": "python3"
  },
  "language_info": {
   "codemirror_mode": {
    "name": "ipython",
    "version": 3
   },
   "file_extension": ".py",
   "mimetype": "text/x-python",
   "name": "python",
   "nbconvert_exporter": "python",
   "pygments_lexer": "ipython3",
   "version": "3.10.0"
  },
  "orig_nbformat": 4,
  "vscode": {
   "interpreter": {
    "hash": "9be826744cc5714b462ad0c8de88bfa6f016a48973c6317b9546595d1685cabb"
   }
  }
 },
 "nbformat": 4,
 "nbformat_minor": 2
}
