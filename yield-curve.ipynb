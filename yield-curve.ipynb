{
 "cells": [
  {
   "attachments": {},
   "cell_type": "markdown",
   "metadata": {},
   "source": [
    "# Introduction"
   ]
  },
  {
   "attachments": {},
   "cell_type": "markdown",
   "metadata": {},
   "source": [
    "In this repository, we are going to learn how to construct a yield curve with 3 famous methods, that is Principal Component Analysis, Nelson-Siegel model and Nelson-Siegel-Svenson model. This model is based on *Computational Actuarial Science with R* by Arthur Charpentier."
   ]
  },
  {
   "cell_type": "code",
   "execution_count": 1,
   "metadata": {},
   "outputs": [],
   "source": [
    "import pandas as pd # Creating DataFrame\n",
    "import numpy as np # Vector Matrices\n",
    "import matplotlib.pyplot as plt # Plotting"
   ]
  },
  {
   "attachments": {},
   "cell_type": "markdown",
   "metadata": {},
   "source": [
    "# PCA"
   ]
  },
  {
   "attachments": {},
   "cell_type": "markdown",
   "metadata": {},
   "source": [
    "Principal Component Analysis (PCA) is a method to reduce dimensionality of a data without losing any significance information."
   ]
  },
  {
   "cell_type": "code",
   "execution_count": 2,
   "metadata": {},
   "outputs": [
    {
     "data": {
      "text/html": [
       "<div>\n",
       "<style scoped>\n",
       "    .dataframe tbody tr th:only-of-type {\n",
       "        vertical-align: middle;\n",
       "    }\n",
       "\n",
       "    .dataframe tbody tr th {\n",
       "        vertical-align: top;\n",
       "    }\n",
       "\n",
       "    .dataframe thead th {\n",
       "        text-align: right;\n",
       "    }\n",
       "</style>\n",
       "<table border=\"1\" class=\"dataframe\">\n",
       "  <thead>\n",
       "    <tr style=\"text-align: right;\">\n",
       "      <th></th>\n",
       "      <th>R_3M</th>\n",
       "      <th>R_6M</th>\n",
       "      <th>R_1Y</th>\n",
       "      <th>R_2Y</th>\n",
       "      <th>R_3Y</th>\n",
       "      <th>R_5Y</th>\n",
       "      <th>R_7Y</th>\n",
       "      <th>R_10Y</th>\n",
       "    </tr>\n",
       "  </thead>\n",
       "  <tbody>\n",
       "    <tr>\n",
       "      <th>1981-12-31</th>\n",
       "      <td>12.92</td>\n",
       "      <td>13.90</td>\n",
       "      <td>14.32</td>\n",
       "      <td>14.57</td>\n",
       "      <td>14.64</td>\n",
       "      <td>14.65</td>\n",
       "      <td>14.67</td>\n",
       "      <td>14.59</td>\n",
       "    </tr>\n",
       "    <tr>\n",
       "      <th>1982-01-31</th>\n",
       "      <td>14.28</td>\n",
       "      <td>14.81</td>\n",
       "      <td>14.73</td>\n",
       "      <td>14.82</td>\n",
       "      <td>14.73</td>\n",
       "      <td>14.54</td>\n",
       "      <td>14.46</td>\n",
       "      <td>14.43</td>\n",
       "    </tr>\n",
       "    <tr>\n",
       "      <th>1982-02-28</th>\n",
       "      <td>13.31</td>\n",
       "      <td>13.83</td>\n",
       "      <td>13.95</td>\n",
       "      <td>14.19</td>\n",
       "      <td>14.13</td>\n",
       "      <td>13.98</td>\n",
       "      <td>13.93</td>\n",
       "      <td>13.86</td>\n",
       "    </tr>\n",
       "    <tr>\n",
       "      <th>1982-03-31</th>\n",
       "      <td>13.34</td>\n",
       "      <td>13.87</td>\n",
       "      <td>13.98</td>\n",
       "      <td>14.20</td>\n",
       "      <td>14.18</td>\n",
       "      <td>14.00</td>\n",
       "      <td>13.94</td>\n",
       "      <td>13.87</td>\n",
       "    </tr>\n",
       "    <tr>\n",
       "      <th>1982-04-30</th>\n",
       "      <td>12.71</td>\n",
       "      <td>13.13</td>\n",
       "      <td>13.34</td>\n",
       "      <td>13.78</td>\n",
       "      <td>13.77</td>\n",
       "      <td>13.75</td>\n",
       "      <td>13.74</td>\n",
       "      <td>13.62</td>\n",
       "    </tr>\n",
       "    <tr>\n",
       "      <th>...</th>\n",
       "      <td>...</td>\n",
       "      <td>...</td>\n",
       "      <td>...</td>\n",
       "      <td>...</td>\n",
       "      <td>...</td>\n",
       "      <td>...</td>\n",
       "      <td>...</td>\n",
       "      <td>...</td>\n",
       "    </tr>\n",
       "    <tr>\n",
       "      <th>2012-07-31</th>\n",
       "      <td>0.10</td>\n",
       "      <td>0.14</td>\n",
       "      <td>0.18</td>\n",
       "      <td>0.27</td>\n",
       "      <td>0.37</td>\n",
       "      <td>0.71</td>\n",
       "      <td>1.14</td>\n",
       "      <td>1.68</td>\n",
       "    </tr>\n",
       "    <tr>\n",
       "      <th>2012-08-31</th>\n",
       "      <td>0.11</td>\n",
       "      <td>0.14</td>\n",
       "      <td>0.18</td>\n",
       "      <td>0.26</td>\n",
       "      <td>0.34</td>\n",
       "      <td>0.67</td>\n",
       "      <td>1.12</td>\n",
       "      <td>1.72</td>\n",
       "    </tr>\n",
       "    <tr>\n",
       "      <th>2012-09-30</th>\n",
       "      <td>0.10</td>\n",
       "      <td>0.15</td>\n",
       "      <td>0.18</td>\n",
       "      <td>0.28</td>\n",
       "      <td>0.37</td>\n",
       "      <td>0.71</td>\n",
       "      <td>1.15</td>\n",
       "      <td>1.75</td>\n",
       "    </tr>\n",
       "    <tr>\n",
       "      <th>2012-10-31</th>\n",
       "      <td>0.09</td>\n",
       "      <td>0.14</td>\n",
       "      <td>0.18</td>\n",
       "      <td>0.27</td>\n",
       "      <td>0.36</td>\n",
       "      <td>0.67</td>\n",
       "      <td>1.08</td>\n",
       "      <td>1.65</td>\n",
       "    </tr>\n",
       "    <tr>\n",
       "      <th>2012-11-30</th>\n",
       "      <td>0.07</td>\n",
       "      <td>0.12</td>\n",
       "      <td>0.16</td>\n",
       "      <td>0.26</td>\n",
       "      <td>0.35</td>\n",
       "      <td>0.70</td>\n",
       "      <td>1.13</td>\n",
       "      <td>1.72</td>\n",
       "    </tr>\n",
       "  </tbody>\n",
       "</table>\n",
       "<p>372 rows × 8 columns</p>\n",
       "</div>"
      ],
      "text/plain": [
       "             R_3M   R_6M   R_1Y   R_2Y   R_3Y   R_5Y   R_7Y  R_10Y\n",
       "1981-12-31  12.92  13.90  14.32  14.57  14.64  14.65  14.67  14.59\n",
       "1982-01-31  14.28  14.81  14.73  14.82  14.73  14.54  14.46  14.43\n",
       "1982-02-28  13.31  13.83  13.95  14.19  14.13  13.98  13.93  13.86\n",
       "1982-03-31  13.34  13.87  13.98  14.20  14.18  14.00  13.94  13.87\n",
       "1982-04-30  12.71  13.13  13.34  13.78  13.77  13.75  13.74  13.62\n",
       "...           ...    ...    ...    ...    ...    ...    ...    ...\n",
       "2012-07-31   0.10   0.14   0.18   0.27   0.37   0.71   1.14   1.68\n",
       "2012-08-31   0.11   0.14   0.18   0.26   0.34   0.67   1.12   1.72\n",
       "2012-09-30   0.10   0.15   0.18   0.28   0.37   0.71   1.15   1.75\n",
       "2012-10-31   0.09   0.14   0.18   0.27   0.36   0.67   1.08   1.65\n",
       "2012-11-30   0.07   0.12   0.16   0.26   0.35   0.70   1.13   1.72\n",
       "\n",
       "[372 rows x 8 columns]"
      ]
     },
     "execution_count": 2,
     "metadata": {},
     "output_type": "execute_result"
    }
   ],
   "source": [
    "df = pd.read_csv('data/FedYieldCurve.csv', index_col = 'Unnamed: 0')\n",
    "df"
   ]
  },
  {
   "cell_type": "code",
   "execution_count": 3,
   "metadata": {},
   "outputs": [],
   "source": [
    "u, s, vh = np.linalg.svd((df-df.mean()).values)"
   ]
  },
  {
   "cell_type": "code",
   "execution_count": 4,
   "metadata": {},
   "outputs": [
    {
     "data": {
      "text/html": [
       "<div>\n",
       "<style scoped>\n",
       "    .dataframe tbody tr th:only-of-type {\n",
       "        vertical-align: middle;\n",
       "    }\n",
       "\n",
       "    .dataframe tbody tr th {\n",
       "        vertical-align: top;\n",
       "    }\n",
       "\n",
       "    .dataframe thead th {\n",
       "        text-align: right;\n",
       "    }\n",
       "</style>\n",
       "<table border=\"1\" class=\"dataframe\">\n",
       "  <thead>\n",
       "    <tr style=\"text-align: right;\">\n",
       "      <th></th>\n",
       "      <th>level</th>\n",
       "      <th>slope</th>\n",
       "      <th>curvature</th>\n",
       "    </tr>\n",
       "  </thead>\n",
       "  <tbody>\n",
       "    <tr>\n",
       "      <th>1981-12-31</th>\n",
       "      <td>-24.841725</td>\n",
       "      <td>-0.096847</td>\n",
       "      <td>-0.077912</td>\n",
       "    </tr>\n",
       "    <tr>\n",
       "      <th>1982-01-31</th>\n",
       "      <td>-25.754093</td>\n",
       "      <td>1.238945</td>\n",
       "      <td>-0.645961</td>\n",
       "    </tr>\n",
       "    <tr>\n",
       "      <th>1982-02-28</th>\n",
       "      <td>-23.765354</td>\n",
       "      <td>0.845435</td>\n",
       "      <td>-0.386518</td>\n",
       "    </tr>\n",
       "    <tr>\n",
       "      <th>1982-03-31</th>\n",
       "      <td>-23.836928</td>\n",
       "      <td>0.865805</td>\n",
       "      <td>-0.381666</td>\n",
       "    </tr>\n",
       "    <tr>\n",
       "      <th>1982-04-30</th>\n",
       "      <td>-22.574645</td>\n",
       "      <td>0.374954</td>\n",
       "      <td>-0.311248</td>\n",
       "    </tr>\n",
       "    <tr>\n",
       "      <th>...</th>\n",
       "      <td>...</td>\n",
       "      <td>...</td>\n",
       "      <td>...</td>\n",
       "    </tr>\n",
       "    <tr>\n",
       "      <th>2012-07-31</th>\n",
       "      <td>13.949964</td>\n",
       "      <td>0.805307</td>\n",
       "      <td>0.060413</td>\n",
       "    </tr>\n",
       "    <tr>\n",
       "      <th>2012-08-31</th>\n",
       "      <td>13.969484</td>\n",
       "      <td>0.811951</td>\n",
       "      <td>0.021757</td>\n",
       "    </tr>\n",
       "    <tr>\n",
       "      <th>2012-09-30</th>\n",
       "      <td>13.916946</td>\n",
       "      <td>0.770492</td>\n",
       "      <td>0.032725</td>\n",
       "    </tr>\n",
       "    <tr>\n",
       "      <th>2012-10-31</th>\n",
       "      <td>14.001006</td>\n",
       "      <td>0.853652</td>\n",
       "      <td>0.081933</td>\n",
       "    </tr>\n",
       "    <tr>\n",
       "      <th>2012-11-30</th>\n",
       "      <td>13.980139</td>\n",
       "      <td>0.765272</td>\n",
       "      <td>0.047260</td>\n",
       "    </tr>\n",
       "  </tbody>\n",
       "</table>\n",
       "<p>372 rows × 3 columns</p>\n",
       "</div>"
      ],
      "text/plain": [
       "                level     slope  curvature\n",
       "1981-12-31 -24.841725 -0.096847  -0.077912\n",
       "1982-01-31 -25.754093  1.238945  -0.645961\n",
       "1982-02-28 -23.765354  0.845435  -0.386518\n",
       "1982-03-31 -23.836928  0.865805  -0.381666\n",
       "1982-04-30 -22.574645  0.374954  -0.311248\n",
       "...               ...       ...        ...\n",
       "2012-07-31  13.949964  0.805307   0.060413\n",
       "2012-08-31  13.969484  0.811951   0.021757\n",
       "2012-09-30  13.916946  0.770492   0.032725\n",
       "2012-10-31  14.001006  0.853652   0.081933\n",
       "2012-11-30  13.980139  0.765272   0.047260\n",
       "\n",
       "[372 rows x 3 columns]"
      ]
     },
     "execution_count": 4,
     "metadata": {},
     "output_type": "execute_result"
    }
   ],
   "source": [
    "yield_curve = pd.DataFrame(data = {'level': u[:,0]*s[0],\n",
    "                                        'slope':u[:,1]*s[1],\n",
    "                                        'curvature':u[:,2]*s[2]}, index = df.index)\n",
    "yield_curve"
   ]
  },
  {
   "cell_type": "code",
   "execution_count": 5,
   "metadata": {},
   "outputs": [
    {
     "data": {
      "text/plain": [
       "<AxesSubplot: title={'center': 'Level'}>"
      ]
     },
     "execution_count": 5,
     "metadata": {},
     "output_type": "execute_result"
    },
    {
     "data": {
      "image/png": "[encoded data removed]",
      "text/plain": [
       "<Figure size 1200x900 with 1 Axes>"
      ]
     },
     "metadata": {},
     "output_type": "display_data"
    }
   ],
   "source": [
    "fig, ax = plt.subplots(figsize = (12,9))\n",
    "plt.title('Level')\n",
    "yield_curve.level.plot()"
   ]
  },
  {
   "attachments": {},
   "cell_type": "markdown",
   "metadata": {},
   "source": [
    "# Nelson - Siegel - Svennson Model"
   ]
  },
  {
   "attachments": {},
   "cell_type": "markdown",
   "metadata": {},
   "source": [
    "Let $s(t)$ be spot rate at time $t >0$. Nelson - Siegel - Svennson Model assumes taht the spot rates are governed by six paramaters according to the functional form:  \n",
    "$$s(t, \\tau) = \\beta_0 + \\beta_1 \\left(\\frac{1-\\exp{\\left(\\frac{-\\tau}{\\lambda_1}\\right)}}{\\frac{\\tau}{\\lambda_1}}\\right)+ \\beta_2 \\left(\\frac{1-\\exp{\\left(-\\frac{\\tau}{\\lambda_1}\\right)}}{\\frac{\\tau}{\\lambda_1}}-\\exp{\\left(-\\frac{\\tau}{\\lambda_1}\\right)} \\right) + \\beta_3 \\left(\\frac{1-\\exp{\\left(-\\frac{\\tau}{\\lambda_2}\\right)}}{\\frac{\\tau}{\\lambda_2}}-\\exp{\\left(-\\frac{\\tau}{\\lambda_2}\\right)} \\right)  $$ \n",
    "with $\\tau$ is maturity of the bond"
   ]
  },
  {
   "attachments": {},
   "cell_type": "markdown",
   "metadata": {},
   "source": [
    "From equation above, we interest in estimating the set of parameter below: \n",
    "$$\\mathbf{\\beta} = \\begin{bmatrix} \\beta_0 \\\\ \\beta_1 \\\\ \\beta_2 \\\\ \\beta_3 \\\\ \\lambda_1 \\\\ \\lambda_2\\end{bmatrix}$$"
   ]
  },
  {
   "attachments": {},
   "cell_type": "markdown",
   "metadata": {},
   "source": [
    "And we interest in minimizing the equation below:  \n",
    "$$\\min_\\mathbf{\\beta} (y(t) - \\hat{y}(t, \\beta))^2$$ \n",
    "Two methods are being used, first is the Spiral Optimization (SPO), and Differential Evolution (DE). "
   ]
  },
  {
   "cell_type": "code",
   "execution_count": 6,
   "metadata": {},
   "outputs": [
    {
     "data": {
      "text/html": [
       "<div>\n",
       "<style scoped>\n",
       "    .dataframe tbody tr th:only-of-type {\n",
       "        vertical-align: middle;\n",
       "    }\n",
       "\n",
       "    .dataframe tbody tr th {\n",
       "        vertical-align: top;\n",
       "    }\n",
       "\n",
       "    .dataframe thead th {\n",
       "        text-align: right;\n",
       "    }\n",
       "</style>\n",
       "<table border=\"1\" class=\"dataframe\">\n",
       "  <thead>\n",
       "    <tr style=\"text-align: right;\">\n",
       "      <th></th>\n",
       "      <th>R_3M</th>\n",
       "      <th>R_6M</th>\n",
       "      <th>R_1Y</th>\n",
       "      <th>R_2Y</th>\n",
       "      <th>R_3Y</th>\n",
       "      <th>R_5Y</th>\n",
       "      <th>R_7Y</th>\n",
       "      <th>R_10Y</th>\n",
       "    </tr>\n",
       "  </thead>\n",
       "  <tbody>\n",
       "    <tr>\n",
       "      <th>2012-07-31</th>\n",
       "      <td>0.10</td>\n",
       "      <td>0.14</td>\n",
       "      <td>0.18</td>\n",
       "      <td>0.27</td>\n",
       "      <td>0.37</td>\n",
       "      <td>0.71</td>\n",
       "      <td>1.14</td>\n",
       "      <td>1.68</td>\n",
       "    </tr>\n",
       "    <tr>\n",
       "      <th>2012-08-31</th>\n",
       "      <td>0.11</td>\n",
       "      <td>0.14</td>\n",
       "      <td>0.18</td>\n",
       "      <td>0.26</td>\n",
       "      <td>0.34</td>\n",
       "      <td>0.67</td>\n",
       "      <td>1.12</td>\n",
       "      <td>1.72</td>\n",
       "    </tr>\n",
       "    <tr>\n",
       "      <th>2012-09-30</th>\n",
       "      <td>0.10</td>\n",
       "      <td>0.15</td>\n",
       "      <td>0.18</td>\n",
       "      <td>0.28</td>\n",
       "      <td>0.37</td>\n",
       "      <td>0.71</td>\n",
       "      <td>1.15</td>\n",
       "      <td>1.75</td>\n",
       "    </tr>\n",
       "    <tr>\n",
       "      <th>2012-10-31</th>\n",
       "      <td>0.09</td>\n",
       "      <td>0.14</td>\n",
       "      <td>0.18</td>\n",
       "      <td>0.27</td>\n",
       "      <td>0.36</td>\n",
       "      <td>0.67</td>\n",
       "      <td>1.08</td>\n",
       "      <td>1.65</td>\n",
       "    </tr>\n",
       "    <tr>\n",
       "      <th>2012-11-30</th>\n",
       "      <td>0.07</td>\n",
       "      <td>0.12</td>\n",
       "      <td>0.16</td>\n",
       "      <td>0.26</td>\n",
       "      <td>0.35</td>\n",
       "      <td>0.70</td>\n",
       "      <td>1.13</td>\n",
       "      <td>1.72</td>\n",
       "    </tr>\n",
       "  </tbody>\n",
       "</table>\n",
       "</div>"
      ],
      "text/plain": [
       "            R_3M  R_6M  R_1Y  R_2Y  R_3Y  R_5Y  R_7Y  R_10Y\n",
       "2012-07-31  0.10  0.14  0.18  0.27  0.37  0.71  1.14   1.68\n",
       "2012-08-31  0.11  0.14  0.18  0.26  0.34  0.67  1.12   1.72\n",
       "2012-09-30  0.10  0.15  0.18  0.28  0.37  0.71  1.15   1.75\n",
       "2012-10-31  0.09  0.14  0.18  0.27  0.36  0.67  1.08   1.65\n",
       "2012-11-30  0.07  0.12  0.16  0.26  0.35  0.70  1.13   1.72"
      ]
     },
     "execution_count": 6,
     "metadata": {},
     "output_type": "execute_result"
    }
   ],
   "source": [
    "df.tail()"
   ]
  },
  {
   "attachments": {},
   "cell_type": "markdown",
   "metadata": {},
   "source": [
    "## Spiral Optimization"
   ]
  },
  {
   "cell_type": "code",
   "execution_count": 7,
   "metadata": {},
   "outputs": [],
   "source": [
    "def nss(beta, tau = [0.25, 0.5, 1, 2, 3, 5, 7, 10]):\n",
    "    c1 = tau/beta[4] # tau / lambda 1\n",
    "    c2 = tau/beta[5] # tau / lambda 2\n",
    "    return beta[0] + beta[1]*((1-np.exp(-c1))/c1) + beta[2]*((1-np.exp(-c1))/c1 - np.exp(-c1)) + beta[3]*((1-np.exp(-c2))/c2 - np.exp(-c2))"
   ]
  },
  {
   "cell_type": "code",
   "execution_count": 8,
   "metadata": {},
   "outputs": [],
   "source": [
    "def spo(y, max_iter = 1000):\n",
    "    # Initial Guess\n",
    "    beta = np.random.rand(4, 6)\n",
    "    beta_star = beta[0]\n",
    "    min_error = np.linalg.norm((y - nss(beta= beta_star)),2)\n",
    "    k_star = 0\n",
    "    \n",
    "    # Rotation Matrix\n",
    "    rot_matrix = np.zeros((6,6))\n",
    "    rot_matrix[0,5] = 1 \n",
    "    for k in range(5):\n",
    "        rot_matrix[k+1,k] = 1\n",
    "        \n",
    "    # Update Algorithm \n",
    "    for n in range(max_iter):\n",
    "        if n > k_star + 2*6:\n",
    "            r = 0.5**(2*6)\n",
    "        else : \n",
    "            r = 1\n",
    "        for i in range(beta.shape[0]):\n",
    "            new_error = np.linalg.norm(y - nss(beta= beta[i]),2)\n",
    "            if min_error > new_error:\n",
    "                min_error = new_error\n",
    "                beta_star = beta[i]    \n",
    "        \n",
    "        # Update beta and beta star        \n",
    "        for i in range(beta.shape[0]):\n",
    "            beta[i] = beta_star + r*rot_matrix.dot(beta[i] - beta_star)\n",
    "            \n",
    "    return beta_star, min_error"
   ]
  },
  {
   "cell_type": "code",
   "execution_count": 14,
   "metadata": {},
   "outputs": [
    {
     "name": "stderr",
     "output_type": "stream",
     "text": [
      "C:\\Users\\leona\\AppData\\Local\\Temp\\ipykernel_39016\\227015860.py:4: RuntimeWarning: overflow encountered in exp\n",
      "  return beta[0] + beta[1]*((1-np.exp(-c1))/c1) + beta[2]*((1-np.exp(-c1))/c1 - np.exp(-c1)) + beta[3]*((1-np.exp(-c2))/c2 - np.exp(-c2))\n",
      "C:\\Users\\leona\\AppData\\Local\\Temp\\ipykernel_39016\\227015860.py:4: RuntimeWarning: invalid value encountered in subtract\n",
      "  return beta[0] + beta[1]*((1-np.exp(-c1))/c1) + beta[2]*((1-np.exp(-c1))/c1 - np.exp(-c1)) + beta[3]*((1-np.exp(-c2))/c2 - np.exp(-c2))\n"
     ]
    }
   ],
   "source": [
    "error = []\n",
    "params = []\n",
    "for n in range(10):\n",
    "    paramss, err = spo(y = df.iloc[-1].values, max_iter= 10000)\n",
    "    params.append(paramss)\n",
    "    error.append(err)"
   ]
  },
  {
   "cell_type": "code",
   "execution_count": 17,
   "metadata": {},
   "outputs": [
    {
     "data": {
      "text/plain": [
       "[array([ 1.72062176, -1.60380606,  0.88060138, -1.41647945,  3.09466322,\n",
       "         0.78058435]),\n",
       " array([ 0.58747235, -0.91122013,  1.05011426,  0.68611624,  1.33802975,\n",
       "         0.0532712 ]),\n",
       " array([ 0.61456548, -1.03117292,  1.75093057,  0.66213126,  1.40096374,\n",
       "         0.32790927]),\n",
       " array([ 1.26365619, -1.38597286,  0.73788533,  0.33739919,  2.1758028 ,\n",
       "         0.05849733]),\n",
       " array([ 1.27451896, -1.70748019, -0.21568271,  1.93766019,  1.8310169 ,\n",
       "         0.30136622]),\n",
       " array([ 0.58202404, -0.53017322,  1.85861569, -0.70610772,  1.80964515,\n",
       "         0.36729517]),\n",
       " array([ 0.76669993, -0.72475981,  1.37720429, -0.65812386,  1.91720792,\n",
       "         0.48955757]),\n",
       " array([ 0.90195664, -1.13759768,  0.54653882,  0.33845309,  1.97089676,\n",
       "         0.17394008]),\n",
       " array([0.23259575, 0.60363517, 0.27669622, 0.80942984, 0.035331  ,\n",
       "        0.5213782 ]),\n",
       " array([ 1.1443113 , -1.1229421 ,  0.09562721,  0.02428459,  1.29121715,\n",
       "         1.08566091])]"
      ]
     },
     "execution_count": 17,
     "metadata": {},
     "output_type": "execute_result"
    }
   ],
   "source": [
    "params"
   ]
  },
  {
   "cell_type": "code",
   "execution_count": 15,
   "metadata": {},
   "outputs": [
    {
     "data": {
      "text/plain": [
       "[0.5412789381922334,\n",
       " 1.2636151884617337,\n",
       " 1.251611393120279,\n",
       " 0.8244435335256716,\n",
       " 0.9018405824942126,\n",
       " 1.1624443231470762,\n",
       " 1.0290913791810836,\n",
       " 1.0372069226458278,\n",
       " 1.8434100132147822,\n",
       " 0.9531860503736161]"
      ]
     },
     "execution_count": 15,
     "metadata": {},
     "output_type": "execute_result"
    }
   ],
   "source": [
    "error"
   ]
  },
  {
   "cell_type": "code",
   "execution_count": 13,
   "metadata": {},
   "outputs": [
    {
     "name": "stderr",
     "output_type": "stream",
     "text": [
      "C:\\Users\\leona\\AppData\\Local\\Temp\\ipykernel_39016\\227015860.py:4: RuntimeWarning: overflow encountered in exp\n",
      "  return beta[0] + beta[1]*((1-np.exp(-c1))/c1) + beta[2]*((1-np.exp(-c1))/c1 - np.exp(-c1)) + beta[3]*((1-np.exp(-c2))/c2 - np.exp(-c2))\n",
      "C:\\Users\\leona\\AppData\\Local\\Temp\\ipykernel_39016\\227015860.py:4: RuntimeWarning: invalid value encountered in subtract\n",
      "  return beta[0] + beta[1]*((1-np.exp(-c1))/c1) + beta[2]*((1-np.exp(-c1))/c1 - np.exp(-c1)) + beta[3]*((1-np.exp(-c2))/c2 - np.exp(-c2))\n"
     ]
    },
    {
     "data": {
      "text/plain": [
       "(array([ 0.92992213, -1.89036717,  2.14610362,  0.0227778 ,  0.98705961,\n",
       "         1.48589169]),\n",
       " 1.2994553748285793)"
      ]
     },
     "execution_count": 13,
     "metadata": {},
     "output_type": "execute_result"
    }
   ],
   "source": [
    "spo(y = df.iloc[-1].values, max_iter= 1000)"
   ]
  }
 ],
 "metadata": {
  "kernelspec": {
   "display_name": "Python 3",
   "language": "python",
   "name": "python3"
  },
  "language_info": {
   "codemirror_mode": {
    "name": "ipython",
    "version": 3
   },
   "file_extension": ".py",
   "mimetype": "text/x-python",
   "name": "python",
   "nbconvert_exporter": "python",
   "pygments_lexer": "ipython3",
   "version": "3.10.0"
  },
  "orig_nbformat": 4,
  "vscode": {
   "interpreter": {
    "hash": "9be826744cc5714b462ad0c8de88bfa6f016a48973c6317b9546595d1685cabb"
   }
  }
 },
 "nbformat": 4,
 "nbformat_minor": 2
}
