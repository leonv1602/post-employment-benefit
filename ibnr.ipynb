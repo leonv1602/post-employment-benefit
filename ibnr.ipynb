{
 "cells": [
  {
   "cell_type": "code",
   "execution_count": 2,
   "metadata": {},
   "outputs": [],
   "source": [
    "import pandas as pd\n",
    "import datetime \n",
    "import numpy as np"
   ]
  },
  {
   "cell_type": "code",
   "execution_count": 4,
   "metadata": {},
   "outputs": [
    {
     "data": {
      "text/html": [
       "<div>\n",
       "<style scoped>\n",
       "    .dataframe tbody tr th:only-of-type {\n",
       "        vertical-align: middle;\n",
       "    }\n",
       "\n",
       "    .dataframe tbody tr th {\n",
       "        vertical-align: top;\n",
       "    }\n",
       "\n",
       "    .dataframe thead th {\n",
       "        text-align: right;\n",
       "    }\n",
       "</style>\n",
       "<table border=\"1\" class=\"dataframe\">\n",
       "  <thead>\n",
       "    <tr style=\"text-align: right;\">\n",
       "      <th></th>\n",
       "      <th>id</th>\n",
       "      <th>reported-date</th>\n",
       "      <th>paid-date</th>\n",
       "      <th>paid-claim</th>\n",
       "    </tr>\n",
       "  </thead>\n",
       "  <tbody>\n",
       "    <tr>\n",
       "      <th>0</th>\n",
       "      <td>45353</td>\n",
       "      <td>2011-4</td>\n",
       "      <td>2011-5</td>\n",
       "      <td>337.44</td>\n",
       "    </tr>\n",
       "    <tr>\n",
       "      <th>1</th>\n",
       "      <td>1110</td>\n",
       "      <td>2014-9</td>\n",
       "      <td>2015-11</td>\n",
       "      <td>15.78</td>\n",
       "    </tr>\n",
       "    <tr>\n",
       "      <th>2</th>\n",
       "      <td>24170</td>\n",
       "      <td>2013-9</td>\n",
       "      <td>2015-3</td>\n",
       "      <td>381.72</td>\n",
       "    </tr>\n",
       "    <tr>\n",
       "      <th>3</th>\n",
       "      <td>86362</td>\n",
       "      <td>2012-5</td>\n",
       "      <td>2018-2</td>\n",
       "      <td>3293.77</td>\n",
       "    </tr>\n",
       "    <tr>\n",
       "      <th>4</th>\n",
       "      <td>90413</td>\n",
       "      <td>2013-3</td>\n",
       "      <td>2010-3</td>\n",
       "      <td>880.53</td>\n",
       "    </tr>\n",
       "    <tr>\n",
       "      <th>...</th>\n",
       "      <td>...</td>\n",
       "      <td>...</td>\n",
       "      <td>...</td>\n",
       "      <td>...</td>\n",
       "    </tr>\n",
       "    <tr>\n",
       "      <th>9995</th>\n",
       "      <td>77409</td>\n",
       "      <td>2011-4</td>\n",
       "      <td>2016-10</td>\n",
       "      <td>915.19</td>\n",
       "    </tr>\n",
       "    <tr>\n",
       "      <th>9996</th>\n",
       "      <td>72777</td>\n",
       "      <td>2014-6</td>\n",
       "      <td>2019-2</td>\n",
       "      <td>1442.76</td>\n",
       "    </tr>\n",
       "    <tr>\n",
       "      <th>9997</th>\n",
       "      <td>26364</td>\n",
       "      <td>2012-9</td>\n",
       "      <td>2021-11</td>\n",
       "      <td>85.76</td>\n",
       "    </tr>\n",
       "    <tr>\n",
       "      <th>9998</th>\n",
       "      <td>80295</td>\n",
       "      <td>2012-10</td>\n",
       "      <td>2012-3</td>\n",
       "      <td>208.08</td>\n",
       "    </tr>\n",
       "    <tr>\n",
       "      <th>9999</th>\n",
       "      <td>84747</td>\n",
       "      <td>2011-2</td>\n",
       "      <td>2010-3</td>\n",
       "      <td>701.63</td>\n",
       "    </tr>\n",
       "  </tbody>\n",
       "</table>\n",
       "<p>10000 rows × 4 columns</p>\n",
       "</div>"
      ],
      "text/plain": [
       "         id reported-date paid-date  paid-claim\n",
       "0     45353        2011-4    2011-5      337.44\n",
       "1      1110        2014-9   2015-11       15.78\n",
       "2     24170        2013-9    2015-3      381.72\n",
       "3     86362        2012-5    2018-2     3293.77\n",
       "4     90413        2013-3    2010-3      880.53\n",
       "...     ...           ...       ...         ...\n",
       "9995  77409        2011-4   2016-10      915.19\n",
       "9996  72777        2014-6    2019-2     1442.76\n",
       "9997  26364        2012-9   2021-11       85.76\n",
       "9998  80295       2012-10    2012-3      208.08\n",
       "9999  84747        2011-2    2010-3      701.63\n",
       "\n",
       "[10000 rows x 4 columns]"
      ]
     },
     "execution_count": 4,
     "metadata": {},
     "output_type": "execute_result"
    }
   ],
   "source": [
    "counts = 10000\n",
    "data = pd.DataFrame(data = {\"id\" : np.random.randint(0, counts*10, counts), \n",
    "                            'reported-date' : [str(np.random.randint(2010, 2015)) + '-' + str(np.random.randint(1,12)) for i in range (counts)],\n",
    "                            'paid-date' : [str(np.random.randint(2010, 2022)) + '-' + str(np.random.randint(1,12)) for i in range (counts)],\n",
    "                            'paid-claim' : np.round(np.random.randn(counts)**2*1e3,2)})\n",
    "data"
   ]
  },
  {
   "cell_type": "code",
   "execution_count": 5,
   "metadata": {},
   "outputs": [],
   "source": [
    "data.to_excel('dummy.xlsx')"
   ]
  }
 ],
 "metadata": {
  "kernelspec": {
   "display_name": "Python 3",
   "language": "python",
   "name": "python3"
  },
  "language_info": {
   "codemirror_mode": {
    "name": "ipython",
    "version": 3
   },
   "file_extension": ".py",
   "mimetype": "text/x-python",
   "name": "python",
   "nbconvert_exporter": "python",
   "pygments_lexer": "ipython3",
   "version": "3.10.0 (tags/v3.10.0:b494f59, Oct  4 2021, 19:00:18) [MSC v.1929 64 bit (AMD64)]"
  },
  "orig_nbformat": 4,
  "vscode": {
   "interpreter": {
    "hash": "9be826744cc5714b462ad0c8de88bfa6f016a48973c6317b9546595d1685cabb"
   }
  }
 },
 "nbformat": 4,
 "nbformat_minor": 2
}
